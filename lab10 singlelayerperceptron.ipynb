{
  "nbformat": 4,
  "nbformat_minor": 0,
  "metadata": {
    "colab": {
      "provenance": []
    },
    "kernelspec": {
      "name": "python3",
      "display_name": "Python 3"
    },
    "language_info": {
      "name": "python"
    }
  },
  "cells": [
    {
      "cell_type": "code",
      "execution_count": null,
      "metadata": {
        "id": "U63vbYsByJC1"
      },
      "outputs": [],
      "source": [
        "import numpy as np\n",
        "import pandas as pd\n",
        "from sklearn import preprocessing"
      ]
    },
    {
      "cell_type": "code",
      "source": [
        "data=pd.read_csv('iris.csv')\n",
        "data.columns=['Sepal_len_cm','Sepal_wid_cm','Petal_len_cm','Petal_wid_cm','Type']\n",
        "data.head(10)"
      ],
      "metadata": {
        "colab": {
          "base_uri": "https://localhost:8080/",
          "height": 363
        },
        "id": "qI1PhStMyi4G",
        "outputId": "80dde650-c494-4d24-e0dc-30f68a522dfc"
      },
      "execution_count": null,
      "outputs": [
        {
          "output_type": "execute_result",
          "data": {
            "text/plain": [
              "   Sepal_len_cm  Sepal_wid_cm  Petal_len_cm  Petal_wid_cm    Type\n",
              "0           5.1           3.5           1.4           0.2  Setosa\n",
              "1           4.9           3.0           1.4           0.2  Setosa\n",
              "2           4.7           3.2           1.3           0.2  Setosa\n",
              "3           4.6           3.1           1.5           0.2  Setosa\n",
              "4           5.0           3.6           1.4           0.2  Setosa\n",
              "5           5.4           3.9           1.7           0.4  Setosa\n",
              "6           4.6           3.4           1.4           0.3  Setosa\n",
              "7           5.0           3.4           1.5           0.2  Setosa\n",
              "8           4.4           2.9           1.4           0.2  Setosa\n",
              "9           4.9           3.1           1.5           0.1  Setosa"
            ],
            "text/html": [
              "\n",
              "  <div id=\"df-79d317ca-6c4a-4450-973f-be051f8c3320\">\n",
              "    <div class=\"colab-df-container\">\n",
              "      <div>\n",
              "<style scoped>\n",
              "    .dataframe tbody tr th:only-of-type {\n",
              "        vertical-align: middle;\n",
              "    }\n",
              "\n",
              "    .dataframe tbody tr th {\n",
              "        vertical-align: top;\n",
              "    }\n",
              "\n",
              "    .dataframe thead th {\n",
              "        text-align: right;\n",
              "    }\n",
              "</style>\n",
              "<table border=\"1\" class=\"dataframe\">\n",
              "  <thead>\n",
              "    <tr style=\"text-align: right;\">\n",
              "      <th></th>\n",
              "      <th>Sepal_len_cm</th>\n",
              "      <th>Sepal_wid_cm</th>\n",
              "      <th>Petal_len_cm</th>\n",
              "      <th>Petal_wid_cm</th>\n",
              "      <th>Type</th>\n",
              "    </tr>\n",
              "  </thead>\n",
              "  <tbody>\n",
              "    <tr>\n",
              "      <th>0</th>\n",
              "      <td>5.1</td>\n",
              "      <td>3.5</td>\n",
              "      <td>1.4</td>\n",
              "      <td>0.2</td>\n",
              "      <td>Setosa</td>\n",
              "    </tr>\n",
              "    <tr>\n",
              "      <th>1</th>\n",
              "      <td>4.9</td>\n",
              "      <td>3.0</td>\n",
              "      <td>1.4</td>\n",
              "      <td>0.2</td>\n",
              "      <td>Setosa</td>\n",
              "    </tr>\n",
              "    <tr>\n",
              "      <th>2</th>\n",
              "      <td>4.7</td>\n",
              "      <td>3.2</td>\n",
              "      <td>1.3</td>\n",
              "      <td>0.2</td>\n",
              "      <td>Setosa</td>\n",
              "    </tr>\n",
              "    <tr>\n",
              "      <th>3</th>\n",
              "      <td>4.6</td>\n",
              "      <td>3.1</td>\n",
              "      <td>1.5</td>\n",
              "      <td>0.2</td>\n",
              "      <td>Setosa</td>\n",
              "    </tr>\n",
              "    <tr>\n",
              "      <th>4</th>\n",
              "      <td>5.0</td>\n",
              "      <td>3.6</td>\n",
              "      <td>1.4</td>\n",
              "      <td>0.2</td>\n",
              "      <td>Setosa</td>\n",
              "    </tr>\n",
              "    <tr>\n",
              "      <th>5</th>\n",
              "      <td>5.4</td>\n",
              "      <td>3.9</td>\n",
              "      <td>1.7</td>\n",
              "      <td>0.4</td>\n",
              "      <td>Setosa</td>\n",
              "    </tr>\n",
              "    <tr>\n",
              "      <th>6</th>\n",
              "      <td>4.6</td>\n",
              "      <td>3.4</td>\n",
              "      <td>1.4</td>\n",
              "      <td>0.3</td>\n",
              "      <td>Setosa</td>\n",
              "    </tr>\n",
              "    <tr>\n",
              "      <th>7</th>\n",
              "      <td>5.0</td>\n",
              "      <td>3.4</td>\n",
              "      <td>1.5</td>\n",
              "      <td>0.2</td>\n",
              "      <td>Setosa</td>\n",
              "    </tr>\n",
              "    <tr>\n",
              "      <th>8</th>\n",
              "      <td>4.4</td>\n",
              "      <td>2.9</td>\n",
              "      <td>1.4</td>\n",
              "      <td>0.2</td>\n",
              "      <td>Setosa</td>\n",
              "    </tr>\n",
              "    <tr>\n",
              "      <th>9</th>\n",
              "      <td>4.9</td>\n",
              "      <td>3.1</td>\n",
              "      <td>1.5</td>\n",
              "      <td>0.1</td>\n",
              "      <td>Setosa</td>\n",
              "    </tr>\n",
              "  </tbody>\n",
              "</table>\n",
              "</div>\n",
              "      <button class=\"colab-df-convert\" onclick=\"convertToInteractive('df-79d317ca-6c4a-4450-973f-be051f8c3320')\"\n",
              "              title=\"Convert this dataframe to an interactive table.\"\n",
              "              style=\"display:none;\">\n",
              "        \n",
              "  <svg xmlns=\"http://www.w3.org/2000/svg\" height=\"24px\"viewBox=\"0 0 24 24\"\n",
              "       width=\"24px\">\n",
              "    <path d=\"M0 0h24v24H0V0z\" fill=\"none\"/>\n",
              "    <path d=\"M18.56 5.44l.94 2.06.94-2.06 2.06-.94-2.06-.94-.94-2.06-.94 2.06-2.06.94zm-11 1L8.5 8.5l.94-2.06 2.06-.94-2.06-.94L8.5 2.5l-.94 2.06-2.06.94zm10 10l.94 2.06.94-2.06 2.06-.94-2.06-.94-.94-2.06-.94 2.06-2.06.94z\"/><path d=\"M17.41 7.96l-1.37-1.37c-.4-.4-.92-.59-1.43-.59-.52 0-1.04.2-1.43.59L10.3 9.45l-7.72 7.72c-.78.78-.78 2.05 0 2.83L4 21.41c.39.39.9.59 1.41.59.51 0 1.02-.2 1.41-.59l7.78-7.78 2.81-2.81c.8-.78.8-2.07 0-2.86zM5.41 20L4 18.59l7.72-7.72 1.47 1.35L5.41 20z\"/>\n",
              "  </svg>\n",
              "      </button>\n",
              "      \n",
              "  <style>\n",
              "    .colab-df-container {\n",
              "      display:flex;\n",
              "      flex-wrap:wrap;\n",
              "      gap: 12px;\n",
              "    }\n",
              "\n",
              "    .colab-df-convert {\n",
              "      background-color: #E8F0FE;\n",
              "      border: none;\n",
              "      border-radius: 50%;\n",
              "      cursor: pointer;\n",
              "      display: none;\n",
              "      fill: #1967D2;\n",
              "      height: 32px;\n",
              "      padding: 0 0 0 0;\n",
              "      width: 32px;\n",
              "    }\n",
              "\n",
              "    .colab-df-convert:hover {\n",
              "      background-color: #E2EBFA;\n",
              "      box-shadow: 0px 1px 2px rgba(60, 64, 67, 0.3), 0px 1px 3px 1px rgba(60, 64, 67, 0.15);\n",
              "      fill: #174EA6;\n",
              "    }\n",
              "\n",
              "    [theme=dark] .colab-df-convert {\n",
              "      background-color: #3B4455;\n",
              "      fill: #D2E3FC;\n",
              "    }\n",
              "\n",
              "    [theme=dark] .colab-df-convert:hover {\n",
              "      background-color: #434B5C;\n",
              "      box-shadow: 0px 1px 3px 1px rgba(0, 0, 0, 0.15);\n",
              "      filter: drop-shadow(0px 1px 2px rgba(0, 0, 0, 0.3));\n",
              "      fill: #FFFFFF;\n",
              "    }\n",
              "  </style>\n",
              "\n",
              "      <script>\n",
              "        const buttonEl =\n",
              "          document.querySelector('#df-79d317ca-6c4a-4450-973f-be051f8c3320 button.colab-df-convert');\n",
              "        buttonEl.style.display =\n",
              "          google.colab.kernel.accessAllowed ? 'block' : 'none';\n",
              "\n",
              "        async function convertToInteractive(key) {\n",
              "          const element = document.querySelector('#df-79d317ca-6c4a-4450-973f-be051f8c3320');\n",
              "          const dataTable =\n",
              "            await google.colab.kernel.invokeFunction('convertToInteractive',\n",
              "                                                     [key], {});\n",
              "          if (!dataTable) return;\n",
              "\n",
              "          const docLinkHtml = 'Like what you see? Visit the ' +\n",
              "            '<a target=\"_blank\" href=https://colab.research.google.com/notebooks/data_table.ipynb>data table notebook</a>'\n",
              "            + ' to learn more about interactive tables.';\n",
              "          element.innerHTML = '';\n",
              "          dataTable['output_type'] = 'display_data';\n",
              "          await google.colab.output.renderOutput(dataTable, element);\n",
              "          const docLink = document.createElement('div');\n",
              "          docLink.innerHTML = docLinkHtml;\n",
              "          element.appendChild(docLink);\n",
              "        }\n",
              "      </script>\n",
              "    </div>\n",
              "  </div>\n",
              "  "
            ]
          },
          "metadata": {},
          "execution_count": 2
        }
      ]
    },
    {
      "cell_type": "code",
      "source": [
        "def activation_func(value):    #Tangent Hypotenuse\\n\"\n",
        "  #return (1/(1+np.exp(-value)))\\n\",\n",
        "  return ((np.exp(value)-np.exp(-value))/(np.exp(value)+np.exp(-value)))"
      ],
      "metadata": {
        "id": "ESR2Ml_mz4cB"
      },
      "execution_count": null,
      "outputs": []
    },
    {
      "cell_type": "code",
      "source": [
        "def perceptron_train(in_data,labels,alpha):\n",
        "  X=np.array(in_data)\n",
        "  y=np.array(labels)\n",
        "  weights=np.random.random(X.shape[1])\n",
        "  original=weights\n",
        "  bias=np.random.random_sample()\n",
        "  for key in range(X.shape[0]):\n",
        "    a=activation_func(np.matmul(np.transpose(weights),X[key]))  \n",
        "    yn=0\n",
        "    if a>=0.7:\n",
        "      yn=1\n",
        "    elif a<=(-0.7):\n",
        "      yn=-1\n",
        "    weights=weights+alpha*(yn-y[key])*X[key]\n",
        "  print('Iteration '+str(key)+': '+str(weights))\n",
        "  print('Difference: '+str(weights-original))\n",
        "  return weights"
      ],
      "metadata": {
        "id": "4lbx1evN0OiT"
      },
      "execution_count": null,
      "outputs": []
    },
    {
      "cell_type": "code",
      "source": [
        "def perceptron_test(in_data,label_shape,weights):\n",
        "  X=np.array(in_data)\n",
        "  y=np.zeros(label_shape)\n",
        "  for key in range(X.shape[1]):\n",
        "    a=activation_func((weights*X[key]).sum())\n",
        "    y[key]=0\n",
        "    if a>=0.7:\n",
        "      y[key]=1\n",
        "    elif a<=(-0.7):\n",
        "      y[key]=-1\n",
        "  return y"
      ],
      "metadata": {
        "id": "iE5r-Mge0z7_"
      },
      "execution_count": null,
      "outputs": []
    },
    {
      "cell_type": "code",
      "source": [
        "def score(result,labels):\n",
        "  difference=result-np.array(labels)\n",
        "  correct_ctr=0\n",
        "  for elem in range(difference.shape[0]):\n",
        "    if difference[elem]==0:\n",
        "      correct_ctr+=1\n",
        "  score=correct_ctr*100/difference.size\n",
        "  print('Score='+str(score))"
      ],
      "metadata": {
        "id": "fFH985TU1NGc"
      },
      "execution_count": null,
      "outputs": []
    },
    {
      "cell_type": "code",
      "source": [
        "divider = np.random.rand(len(data)) < 0.70\n",
        "d_train=data[divider]\n",
        "d_test=data[~divider]"
      ],
      "metadata": {
        "id": "2aogrKN41jpf"
      },
      "execution_count": null,
      "outputs": []
    },
    {
      "cell_type": "code",
      "source": [
        "d_train_y=preprocessing.LabelEncoder().fit_transform(d_train['Type'])\n",
        "d_train_X=d_train.drop(['Type'],axis=1)\n",
        "# Dividing d_train into data and labels/targets\\n\",\n",
        "d_test_y=preprocessing.LabelEncoder().fit_transform(d_test['Type'])\n",
        "d_test_X=d_test.drop(['Type'],axis=1)"
      ],
      "metadata": {
        "id": "Je6GovC21vu7"
      },
      "execution_count": null,
      "outputs": []
    },
    {
      "cell_type": "code",
      "source": [
        "# Learning rate\\n\",\n",
        "alpha = 0.01\n",
        "# Train\\n\",\n",
        "weights = perceptron_train(d_train_X, d_train_y, alpha)"
      ],
      "metadata": {
        "colab": {
          "base_uri": "https://localhost:8080/"
        },
        "id": "Ts9VKCdy19T0",
        "outputId": "816b40c5-feb1-408f-f157-e28ce7109c61"
      },
      "execution_count": null,
      "outputs": [
        {
          "output_type": "stream",
          "name": "stdout",
          "text": [
            "Iteration 101: [ 0.63035745  0.52557157 -0.86587061  0.36638988]\n",
            "Difference: [-0.268  0.309 -1.254 -0.575]\n"
          ]
        }
      ]
    },
    {
      "cell_type": "code",
      "source": [
        "result_test=perceptron_test(d_test_X,d_test_y.shape,weights)"
      ],
      "metadata": {
        "id": "G92nNTRH2S3n"
      },
      "execution_count": null,
      "outputs": []
    },
    {
      "cell_type": "code",
      "source": [
        "score(result_test,d_test_y)"
      ],
      "metadata": {
        "colab": {
          "base_uri": "https://localhost:8080/"
        },
        "id": "QNTtqaDo2fjS",
        "outputId": "950e597c-7713-4de1-9777-6a733c09d19f"
      },
      "execution_count": null,
      "outputs": [
        {
          "output_type": "stream",
          "name": "stdout",
          "text": [
            "Score=16.666666666666668\n"
          ]
        }
      ]
    }
  ]
}